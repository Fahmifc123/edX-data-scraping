{
 "cells": [
  {
   "cell_type": "markdown",
   "metadata": {},
   "source": [
    "## Project Overview"
   ]
  },
  {
   "cell_type": "markdown",
   "metadata": {},
   "source": [
    "Data scrapping/ Web Scarpping is a process of extracting information from a website. In this project, I have extracted courses details from edX portal."
   ]
  },
  {
   "cell_type": "markdown",
   "metadata": {},
   "source": [
    "## Importing Python Libraries"
   ]
  },
  {
   "cell_type": "code",
   "execution_count": 1,
   "metadata": {},
   "outputs": [],
   "source": [
    "#importing neccesary python libraries\n",
    "import pandas as pd\n",
    "from selenium import webdriver\n",
    "from selenium.webdriver.common.by import By\n",
    "from selenium.webdriver.support.ui import WebDriverWait\n",
    "from selenium.webdriver.support import expected_conditions as EC\n",
    "import time\n",
    "import re"
   ]
  },
  {
   "cell_type": "markdown",
   "metadata": {},
   "source": [
    "## Scarping the main course page - [edX](https://www.edx.org/search?tab=course)"
   ]
  },
  {
   "cell_type": "code",
   "execution_count": 2,
   "metadata": {},
   "outputs": [],
   "source": [
    "driver = webdriver.Chrome('chromedriver.exe')\n",
    "#opening edx course url\n",
    "driver.get('https://www.edx.org/search?tab=course')"
   ]
  },
  {
   "cell_type": "code",
   "execution_count": 3,
   "metadata": {},
   "outputs": [
    {
     "name": "stdout",
     "output_type": "stream",
     "text": [
      "There are 42 pages of courses available in edX\n"
     ]
    }
   ],
   "source": [
    "#calculating number of pages \n",
    "page_str = driver.find_element_by_xpath('(//button[@class=\"btn page-link\"])[last()]').text\n",
    "total_page = int(page_str)\n",
    "print(f'There are {total_page} pages of courses available in edX')"
   ]
  },
  {
   "cell_type": "code",
   "execution_count": 4,
   "metadata": {},
   "outputs": [
    {
     "name": "stdout",
     "output_type": "stream",
     "text": [
      "There are 998 courses available\n"
     ]
    }
   ],
   "source": [
    "course_links = []\n",
    "page = 1\n",
    "#looping through the pages to get course links\n",
    "while page <= total_page:  \n",
    "    #Xpath of the courses\n",
    "    c_xpath = '//div[@class=\"discovery-card Verified and Audit col col-xl-3 mb-4 scrollable-discovery-card-spacing\"]/a[@class=\"discovery-card-link\"]'\n",
    "    #get a list of all courses available in the current page\n",
    "    courses = driver.find_elements_by_xpath(c_xpath)\n",
    "    #extract the links of the courses\n",
    "    for course in courses:\n",
    "        course_links.append(course.get_attribute('href'))\n",
    "    #Check whether current page is last page or not\n",
    "    if page != total_page:\n",
    "        #click the next page button\n",
    "        driver.find_element_by_xpath('//button[@class=\"btn next page-link\"]').click()\n",
    "        page += 1\n",
    "        #wait until program moves to next page\n",
    "        check = '//button[@aria-label=\"Page ' + str(page) + ', Current Page\"]'\n",
    "        WebDriverWait(driver, 60).until(EC.visibility_of_element_located((By.XPATH, c_xpath)))\n",
    "        #wait for another 30 seconds for the page to load completely\n",
    "        time.sleep(30)\n",
    "    else:\n",
    "        break\n",
    "\n",
    "#close the driver\n",
    "driver.close()   \n",
    "\n",
    "print(f'There are {len(course_links)} courses available')"
   ]
  },
  {
   "cell_type": "markdown",
   "metadata": {},
   "source": [
    "## Scrapping the individual course pages"
   ]
  },
  {
   "cell_type": "code",
   "execution_count": 5,
   "metadata": {},
   "outputs": [],
   "source": [
    "#writing functions to extract and return required value from each edX course page\n",
    "#these functions will return 'Missing' if certain fields are not found in course page\n",
    "\n",
    "def get_title():\n",
    "    try:\n",
    "        title = driver.find_element_by_xpath('//h1[@class=\"course-intro-heading mb-2\"]').text\n",
    "    except:\n",
    "        title = 'Missing'\n",
    "    finally:\n",
    "        return title\n",
    "    \n",
    "def get_short_description():\n",
    "    try:\n",
    "        des = driver.find_element_by_xpath('//div[@class=\"course-intro-lead-in mb-3\"]/p').text\n",
    "    except:\n",
    "        des = 'Missing'\n",
    "    finally:\n",
    "        return des\n",
    "    \n",
    "def get_length():\n",
    "    try:\n",
    "        length = driver.find_element_by_xpath('(//li[@class=\"list-group-item d-flex row px-0\"])[1]')\n",
    "        length = length.find_element_by_xpath('./div[@class=\"col\"]').text\n",
    "    except:\n",
    "        length = 'Missing'\n",
    "    finally:\n",
    "        return length\n",
    "    \n",
    "def get_effort():\n",
    "    try:\n",
    "        effort = driver.find_element_by_xpath('(//li[@class=\"list-group-item d-flex row px-0\"])[2]')\n",
    "        effort = effort.find_element_by_xpath('./div[@class=\"col\"]').text\n",
    "    except:\n",
    "        effort = 'Missing'\n",
    "    finally:\n",
    "        return effort\n",
    "\n",
    "def get_price():\n",
    "    try:\n",
    "        price = driver.find_element_by_xpath('(//li[@class=\"list-group-item d-flex row px-0\"])[3]')\n",
    "        price = price.find_element_by_xpath('./div[@class=\"col\"]').text\n",
    "        #extract only the value starting with $ or ₹\n",
    "        price = re.findall(r'[\\$\\₹].*', price)[0]\n",
    "    except:\n",
    "        price = 'Missing'\n",
    "    finally:\n",
    "        return price\n",
    "\n",
    "def get_institution():\n",
    "    try:\n",
    "        institution = driver.find_element_by_xpath('(//li[@class=\"list-group-item d-flex row px-0\"])[4]')\n",
    "        institution = institution.find_element_by_xpath('./div[@class=\"col\"]').text\n",
    "    except:\n",
    "        institution = 'Missing'\n",
    "    finally:\n",
    "        return institution\n",
    "\n",
    "def get_subject():\n",
    "    try:\n",
    "        subject = driver.find_element_by_xpath('(//li[@class=\"list-group-item d-flex row px-0\"])[5]')\n",
    "        subject = subject.find_element_by_xpath('./div[@class=\"col\"]').text\n",
    "    except:\n",
    "        subject = 'Missing'\n",
    "    finally:\n",
    "        return subject\n",
    "\n",
    "def get_level():\n",
    "    try:\n",
    "        level = driver.find_element_by_xpath('(//li[@class=\"list-group-item d-flex row px-0\"])[6]')\n",
    "        level = level.find_element_by_xpath('./div[@class=\"col\"]').text\n",
    "    except:\n",
    "        level = 'Missing'\n",
    "    finally:\n",
    "        return level\n",
    "\n",
    "def get_prerequisites():\n",
    "    try:\n",
    "        prerequisites = driver.find_element_by_xpath('//div[@class=\"col prerequisite-sidebar\"]//p').text\n",
    "    except:\n",
    "        prerequisites = 'Missing'\n",
    "    finally:\n",
    "        return prerequisites"
   ]
  },
  {
   "cell_type": "code",
   "execution_count": 6,
   "metadata": {},
   "outputs": [],
   "source": [
    "#create a pandas DataFrame to store the extracted info\n",
    "course_details = pd.DataFrame(columns=['Course Link','Title', 'Short Description', \n",
    "                 'Length', 'Effort', 'Price', 'Institution', \n",
    "                 'Subject', 'Level', 'Prerequisites'])"
   ]
  },
  {
   "cell_type": "code",
   "execution_count": 7,
   "metadata": {},
   "outputs": [],
   "source": [
    "#loop through course link and fetch required fields\n",
    "for course_link in course_links:\n",
    "    course_dict = {}\n",
    "    driver = webdriver.Chrome('chromedriver.exe')\n",
    "    driver.get(course_link)\n",
    "    \n",
    "    #extract information using functions and storing it in temp dict    \n",
    "    course_dict['Course Link'] = course_link\n",
    "    course_dict['Title'] = get_title()\n",
    "    course_dict['Short Description'] = get_short_description()\n",
    "    course_dict['Length'] = get_length()\n",
    "    course_dict['Effort'] = get_effort()\n",
    "    course_dict['Price'] = get_price()\n",
    "    course_dict['Institution'] = get_institution()\n",
    "    course_dict['Subject'] = get_subject()\n",
    "    course_dict['Level'] = get_level()\n",
    "    course_dict['Prerequisites'] = get_prerequisites()\n",
    "    driver.close()\n",
    "    \n",
    "    #append the extracted info to the DataFrame\n",
    "    course_details = course_details.append(course_dict,ignore_index=True)"
   ]
  },
  {
   "cell_type": "code",
   "execution_count": 8,
   "metadata": {},
   "outputs": [
    {
     "data": {
      "text/html": [
       "<div>\n",
       "<style scoped>\n",
       "    .dataframe tbody tr th:only-of-type {\n",
       "        vertical-align: middle;\n",
       "    }\n",
       "\n",
       "    .dataframe tbody tr th {\n",
       "        vertical-align: top;\n",
       "    }\n",
       "\n",
       "    .dataframe thead th {\n",
       "        text-align: right;\n",
       "    }\n",
       "</style>\n",
       "<table border=\"1\" class=\"dataframe\">\n",
       "  <thead>\n",
       "    <tr style=\"text-align: right;\">\n",
       "      <th></th>\n",
       "      <th>Course Link</th>\n",
       "      <th>Title</th>\n",
       "      <th>Short Description</th>\n",
       "      <th>Length</th>\n",
       "      <th>Effort</th>\n",
       "      <th>Price</th>\n",
       "      <th>Institution</th>\n",
       "      <th>Subject</th>\n",
       "      <th>Level</th>\n",
       "      <th>Prerequisites</th>\n",
       "    </tr>\n",
       "  </thead>\n",
       "  <tbody>\n",
       "    <tr>\n",
       "      <th>0</th>\n",
       "      <td>https://www.edx.org/course/cs50s-introduction-...</td>\n",
       "      <td>CS50's Introduction to Computer Science</td>\n",
       "      <td>An introduction to the intellectual enterprise...</td>\n",
       "      <td>12 Weeks</td>\n",
       "      <td>6–18 hours per week</td>\n",
       "      <td>$90 USD</td>\n",
       "      <td>HarvardX</td>\n",
       "      <td>Computer Science</td>\n",
       "      <td>Introductory</td>\n",
       "      <td>None.</td>\n",
       "    </tr>\n",
       "    <tr>\n",
       "      <th>1</th>\n",
       "      <td>https://www.edx.org/course/cs50s-web-programmi...</td>\n",
       "      <td>Missing</td>\n",
       "      <td>Missing</td>\n",
       "      <td>Missing</td>\n",
       "      <td>Missing</td>\n",
       "      <td>Missing</td>\n",
       "      <td>Missing</td>\n",
       "      <td>Missing</td>\n",
       "      <td>Missing</td>\n",
       "      <td>Missing</td>\n",
       "    </tr>\n",
       "    <tr>\n",
       "      <th>2</th>\n",
       "      <td>https://www.edx.org/course/entrepreneurship-in...</td>\n",
       "      <td>Missing</td>\n",
       "      <td>Missing</td>\n",
       "      <td>Missing</td>\n",
       "      <td>Missing</td>\n",
       "      <td>Missing</td>\n",
       "      <td>Missing</td>\n",
       "      <td>Missing</td>\n",
       "      <td>Missing</td>\n",
       "      <td>Missing</td>\n",
       "    </tr>\n",
       "    <tr>\n",
       "      <th>3</th>\n",
       "      <td>https://www.edx.org/course/cs50s-introduction-...</td>\n",
       "      <td>Missing</td>\n",
       "      <td>Missing</td>\n",
       "      <td>Missing</td>\n",
       "      <td>Missing</td>\n",
       "      <td>Missing</td>\n",
       "      <td>Missing</td>\n",
       "      <td>Missing</td>\n",
       "      <td>Missing</td>\n",
       "      <td>Missing</td>\n",
       "    </tr>\n",
       "    <tr>\n",
       "      <th>4</th>\n",
       "      <td>https://www.edx.org/course/rhetoric-art-of-per...</td>\n",
       "      <td>Missing</td>\n",
       "      <td>Missing</td>\n",
       "      <td>Missing</td>\n",
       "      <td>Missing</td>\n",
       "      <td>Missing</td>\n",
       "      <td>Missing</td>\n",
       "      <td>Missing</td>\n",
       "      <td>Missing</td>\n",
       "      <td>Missing</td>\n",
       "    </tr>\n",
       "  </tbody>\n",
       "</table>\n",
       "</div>"
      ],
      "text/plain": [
       "                                         Course Link  \\\n",
       "0  https://www.edx.org/course/cs50s-introduction-...   \n",
       "1  https://www.edx.org/course/cs50s-web-programmi...   \n",
       "2  https://www.edx.org/course/entrepreneurship-in...   \n",
       "3  https://www.edx.org/course/cs50s-introduction-...   \n",
       "4  https://www.edx.org/course/rhetoric-art-of-per...   \n",
       "\n",
       "                                     Title  \\\n",
       "0  CS50's Introduction to Computer Science   \n",
       "1                                  Missing   \n",
       "2                                  Missing   \n",
       "3                                  Missing   \n",
       "4                                  Missing   \n",
       "\n",
       "                                   Short Description    Length  \\\n",
       "0  An introduction to the intellectual enterprise...  12 Weeks   \n",
       "1                                            Missing   Missing   \n",
       "2                                            Missing   Missing   \n",
       "3                                            Missing   Missing   \n",
       "4                                            Missing   Missing   \n",
       "\n",
       "                Effort    Price Institution           Subject         Level  \\\n",
       "0  6–18 hours per week  $90 USD    HarvardX  Computer Science  Introductory   \n",
       "1              Missing  Missing     Missing           Missing       Missing   \n",
       "2              Missing  Missing     Missing           Missing       Missing   \n",
       "3              Missing  Missing     Missing           Missing       Missing   \n",
       "4              Missing  Missing     Missing           Missing       Missing   \n",
       "\n",
       "  Prerequisites  \n",
       "0         None.  \n",
       "1       Missing  \n",
       "2       Missing  \n",
       "3       Missing  \n",
       "4       Missing  "
      ]
     },
     "execution_count": 8,
     "metadata": {},
     "output_type": "execute_result"
    }
   ],
   "source": [
    "#view header of the DataFrame\n",
    "course_details.head()"
   ]
  },
  {
   "cell_type": "markdown",
   "metadata": {},
   "source": [
    "> Data of few courses are missed due to network issue. Let's seperate them and extract there details"
   ]
  },
  {
   "cell_type": "markdown",
   "metadata": {},
   "source": [
    "## Handling missed links"
   ]
  },
  {
   "cell_type": "code",
   "execution_count": 12,
   "metadata": {},
   "outputs": [
    {
     "name": "stdout",
     "output_type": "stream",
     "text": [
      "35 courses are missed\n"
     ]
    }
   ],
   "source": [
    "#seperating missed links\n",
    "missed_links = list(course_details[course_details['Title'] == 'Missing']['Course Link'])\n",
    "print(f'{len(missed_links)} courses are missed')"
   ]
  },
  {
   "cell_type": "code",
   "execution_count": 13,
   "metadata": {},
   "outputs": [],
   "source": [
    "#dropping the missed courses from DataFrame\n",
    "course_details = course_details[course_details.Title != 'Missing']"
   ]
  },
  {
   "cell_type": "code",
   "execution_count": 14,
   "metadata": {},
   "outputs": [],
   "source": [
    "#loop through missed course link and fetch required fields\n",
    "for course_link in missed_links:\n",
    "    course_dict = {}\n",
    "    driver = webdriver.Chrome('chromedriver.exe')\n",
    "    driver.get(course_link)\n",
    "    \n",
    "    #extract information using functions and storing it in temp dict    \n",
    "    course_dict['Course Link'] = course_link\n",
    "    course_dict['Title'] = get_title()\n",
    "    course_dict['Short Description'] = get_short_description()\n",
    "    course_dict['Length'] = get_length()\n",
    "    course_dict['Effort'] = get_effort()\n",
    "    course_dict['Price'] = get_price()\n",
    "    course_dict['Institution'] = get_institution()\n",
    "    course_dict['Subject'] = get_subject()\n",
    "    course_dict['Level'] = get_level()\n",
    "    course_dict['Prerequisites'] = get_prerequisites()\n",
    "    driver.close()\n",
    "    \n",
    "    #append the extracted info to the DataFrame\n",
    "    course_details = course_details.append(course_dict,ignore_index=True)"
   ]
  },
  {
   "cell_type": "markdown",
   "metadata": {},
   "source": [
    "## Writing the data to CSV file"
   ]
  },
  {
   "cell_type": "code",
   "execution_count": 15,
   "metadata": {},
   "outputs": [
    {
     "data": {
      "text/plain": [
       "False"
      ]
     },
     "execution_count": 15,
     "metadata": {},
     "output_type": "execute_result"
    }
   ],
   "source": [
    "#checking for missed links\n",
    "(course_details['Title'] == 'Missing').any()"
   ]
  },
  {
   "cell_type": "code",
   "execution_count": 18,
   "metadata": {},
   "outputs": [
    {
     "data": {
      "text/html": [
       "<div>\n",
       "<style scoped>\n",
       "    .dataframe tbody tr th:only-of-type {\n",
       "        vertical-align: middle;\n",
       "    }\n",
       "\n",
       "    .dataframe tbody tr th {\n",
       "        vertical-align: top;\n",
       "    }\n",
       "\n",
       "    .dataframe thead th {\n",
       "        text-align: right;\n",
       "    }\n",
       "</style>\n",
       "<table border=\"1\" class=\"dataframe\">\n",
       "  <thead>\n",
       "    <tr style=\"text-align: right;\">\n",
       "      <th></th>\n",
       "      <th>Course Link</th>\n",
       "      <th>Title</th>\n",
       "      <th>Short Description</th>\n",
       "      <th>Length</th>\n",
       "      <th>Effort</th>\n",
       "      <th>Price</th>\n",
       "      <th>Institution</th>\n",
       "      <th>Subject</th>\n",
       "      <th>Level</th>\n",
       "      <th>Prerequisites</th>\n",
       "    </tr>\n",
       "  </thead>\n",
       "  <tbody>\n",
       "    <tr>\n",
       "      <th>0</th>\n",
       "      <td>https://www.edx.org/course/cs50s-introduction-...</td>\n",
       "      <td>CS50's Introduction to Computer Science</td>\n",
       "      <td>An introduction to the intellectual enterprise...</td>\n",
       "      <td>12 Weeks</td>\n",
       "      <td>6–18 hours per week</td>\n",
       "      <td>$90 USD</td>\n",
       "      <td>HarvardX</td>\n",
       "      <td>Computer Science</td>\n",
       "      <td>Introductory</td>\n",
       "      <td>None.</td>\n",
       "    </tr>\n",
       "    <tr>\n",
       "      <th>1</th>\n",
       "      <td>https://www.edx.org/course/fundamentals-of-neu...</td>\n",
       "      <td>Fundamentals of Neuroscience, Part 1: The Elec...</td>\n",
       "      <td>Learn how electricity makes the neurons in you...</td>\n",
       "      <td>5 Weeks</td>\n",
       "      <td>3–5 hours per week</td>\n",
       "      <td>$99 USD</td>\n",
       "      <td>HarvardX</td>\n",
       "      <td>Biology &amp; Life Sciences</td>\n",
       "      <td>Introductory</td>\n",
       "      <td>Some familiarity witharithmetic, basic algebra...</td>\n",
       "    </tr>\n",
       "    <tr>\n",
       "      <th>2</th>\n",
       "      <td>https://www.edx.org/course/data-science-machin...</td>\n",
       "      <td>Data Science: Machine Learning</td>\n",
       "      <td>Build a movie recommendation system and learn ...</td>\n",
       "      <td>8 Weeks</td>\n",
       "      <td>2–4 hours per week</td>\n",
       "      <td>$49 USD</td>\n",
       "      <td>HarvardX</td>\n",
       "      <td>Data Analysis &amp; Statistics</td>\n",
       "      <td>Introductory</td>\n",
       "      <td>This course is part of our Professional Certif...</td>\n",
       "    </tr>\n",
       "    <tr>\n",
       "      <th>3</th>\n",
       "      <td>https://www.edx.org/course/justice-2</td>\n",
       "      <td>Justice</td>\n",
       "      <td>This introduction to moral and political philo...</td>\n",
       "      <td>12 Weeks</td>\n",
       "      <td>3–6 hours per week</td>\n",
       "      <td>$99 USD</td>\n",
       "      <td>HarvardX</td>\n",
       "      <td>Humanities</td>\n",
       "      <td>Introductory</td>\n",
       "      <td>Missing</td>\n",
       "    </tr>\n",
       "    <tr>\n",
       "      <th>4</th>\n",
       "      <td>https://www.edx.org/course/child-protection-ch...</td>\n",
       "      <td>Child Protection: Children's Rights in Theory ...</td>\n",
       "      <td>Learn how to protect children from violence, e...</td>\n",
       "      <td>16 Weeks</td>\n",
       "      <td>2–6 hours per week</td>\n",
       "      <td>$99 USD</td>\n",
       "      <td>HarvardX</td>\n",
       "      <td>Social Sciences</td>\n",
       "      <td>Introductory</td>\n",
       "      <td>Missing</td>\n",
       "    </tr>\n",
       "  </tbody>\n",
       "</table>\n",
       "</div>"
      ],
      "text/plain": [
       "                                         Course Link  \\\n",
       "0  https://www.edx.org/course/cs50s-introduction-...   \n",
       "1  https://www.edx.org/course/fundamentals-of-neu...   \n",
       "2  https://www.edx.org/course/data-science-machin...   \n",
       "3               https://www.edx.org/course/justice-2   \n",
       "4  https://www.edx.org/course/child-protection-ch...   \n",
       "\n",
       "                                               Title  \\\n",
       "0            CS50's Introduction to Computer Science   \n",
       "1  Fundamentals of Neuroscience, Part 1: The Elec...   \n",
       "2                     Data Science: Machine Learning   \n",
       "3                                            Justice   \n",
       "4  Child Protection: Children's Rights in Theory ...   \n",
       "\n",
       "                                   Short Description    Length  \\\n",
       "0  An introduction to the intellectual enterprise...  12 Weeks   \n",
       "1  Learn how electricity makes the neurons in you...   5 Weeks   \n",
       "2  Build a movie recommendation system and learn ...   8 Weeks   \n",
       "3  This introduction to moral and political philo...  12 Weeks   \n",
       "4  Learn how to protect children from violence, e...  16 Weeks   \n",
       "\n",
       "                Effort    Price Institution                     Subject  \\\n",
       "0  6–18 hours per week  $90 USD    HarvardX            Computer Science   \n",
       "1   3–5 hours per week  $99 USD    HarvardX     Biology & Life Sciences   \n",
       "2   2–4 hours per week  $49 USD    HarvardX  Data Analysis & Statistics   \n",
       "3   3–6 hours per week  $99 USD    HarvardX                  Humanities   \n",
       "4   2–6 hours per week  $99 USD    HarvardX             Social Sciences   \n",
       "\n",
       "          Level                                      Prerequisites  \n",
       "0  Introductory                                              None.  \n",
       "1  Introductory  Some familiarity witharithmetic, basic algebra...  \n",
       "2  Introductory  This course is part of our Professional Certif...  \n",
       "3  Introductory                                            Missing  \n",
       "4  Introductory                                            Missing  "
      ]
     },
     "execution_count": 18,
     "metadata": {},
     "output_type": "execute_result"
    }
   ],
   "source": [
    "course_details.head()"
   ]
  },
  {
   "cell_type": "markdown",
   "metadata": {},
   "source": [
    "Coverting the special characters(–) to csv accessible format"
   ]
  },
  {
   "cell_type": "code",
   "execution_count": 21,
   "metadata": {},
   "outputs": [],
   "source": [
    "course_details['Effort'] = course_details['Effort'].str.replace('–','-')"
   ]
  },
  {
   "cell_type": "code",
   "execution_count": 23,
   "metadata": {},
   "outputs": [],
   "source": [
    "#writing the extracted data to CSV file\n",
    "course_details.to_csv('Data/edX_Course.csv',index=False)"
   ]
  }
 ],
 "metadata": {
  "kernelspec": {
   "display_name": "Python 3",
   "language": "python",
   "name": "python3"
  },
  "language_info": {
   "codemirror_mode": {
    "name": "ipython",
    "version": 3
   },
   "file_extension": ".py",
   "mimetype": "text/x-python",
   "name": "python",
   "nbconvert_exporter": "python",
   "pygments_lexer": "ipython3",
   "version": "3.7.6"
  }
 },
 "nbformat": 4,
 "nbformat_minor": 4
}
